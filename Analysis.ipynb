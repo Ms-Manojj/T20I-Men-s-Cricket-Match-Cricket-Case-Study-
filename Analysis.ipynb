{
 "cells": [
  {
   "cell_type": "code",
   "execution_count": 327,
   "id": "cc1ee1b3-802a-4020-b6bd-b8d02c0c206c",
   "metadata": {},
   "outputs": [],
   "source": [
    "import pandas as pd\n",
    "import numpy as np\n",
    "import seaborn as sn\n",
    "import matplotlib.pyplot as plt\n",
    "import plotly.express as px"
   ]
  },
  {
   "cell_type": "code",
   "execution_count": 328,
   "id": "94e5212d-714d-4ef7-a8d4-64d07f92b849",
   "metadata": {},
   "outputs": [],
   "source": [
    "dataset=pd.read_csv(r'C:\\Users\\admin\\Desktop\\Main\\Python Data Science cource\\Web Scraping Projects\\Cricket Case Study\\Data\\ball_by_ball_it20.csv',)"
   ]
  },
  {
   "cell_type": "code",
   "execution_count": 329,
   "id": "b9d2a4c3-6d42-4239-a750-cfea159746bf",
   "metadata": {
    "scrolled": true
   },
   "outputs": [
    {
     "data": {
      "text/html": [
       "<div>\n",
       "<style scoped>\n",
       "    .dataframe tbody tr th:only-of-type {\n",
       "        vertical-align: middle;\n",
       "    }\n",
       "\n",
       "    .dataframe tbody tr th {\n",
       "        vertical-align: top;\n",
       "    }\n",
       "\n",
       "    .dataframe thead th {\n",
       "        text-align: right;\n",
       "    }\n",
       "</style>\n",
       "<table border=\"1\" class=\"dataframe\">\n",
       "  <thead>\n",
       "    <tr style=\"text-align: right;\">\n",
       "      <th></th>\n",
       "      <th>Unnamed: 0</th>\n",
       "      <th>Match ID</th>\n",
       "      <th>Date</th>\n",
       "      <th>Venue</th>\n",
       "      <th>Bat First</th>\n",
       "      <th>Bat Second</th>\n",
       "      <th>Innings</th>\n",
       "      <th>Over</th>\n",
       "      <th>Ball</th>\n",
       "      <th>Batter</th>\n",
       "      <th>...</th>\n",
       "      <th>Winner</th>\n",
       "      <th>Chased Successfully</th>\n",
       "      <th>Total Batter Runs</th>\n",
       "      <th>Total Non Striker Runs</th>\n",
       "      <th>Batter Balls Faced</th>\n",
       "      <th>Non Striker Balls Faced</th>\n",
       "      <th>Player Out Runs</th>\n",
       "      <th>Player Out Balls Faced</th>\n",
       "      <th>Bowler Runs Conceded</th>\n",
       "      <th>Valid Ball</th>\n",
       "    </tr>\n",
       "  </thead>\n",
       "  <tbody>\n",
       "    <tr>\n",
       "      <th>0</th>\n",
       "      <td>0</td>\n",
       "      <td>1339605</td>\n",
       "      <td>26-03-2023</td>\n",
       "      <td>SuperSport Park</td>\n",
       "      <td>West Indies</td>\n",
       "      <td>South Africa</td>\n",
       "      <td>1</td>\n",
       "      <td>1</td>\n",
       "      <td>1</td>\n",
       "      <td>BA King</td>\n",
       "      <td>...</td>\n",
       "      <td>South Africa</td>\n",
       "      <td>1</td>\n",
       "      <td>1</td>\n",
       "      <td>0</td>\n",
       "      <td>1</td>\n",
       "      <td>0</td>\n",
       "      <td>NaN</td>\n",
       "      <td>NaN</td>\n",
       "      <td>1</td>\n",
       "      <td>1</td>\n",
       "    </tr>\n",
       "    <tr>\n",
       "      <th>1</th>\n",
       "      <td>1</td>\n",
       "      <td>1339605</td>\n",
       "      <td>26-03-2023</td>\n",
       "      <td>SuperSport Park</td>\n",
       "      <td>West Indies</td>\n",
       "      <td>South Africa</td>\n",
       "      <td>1</td>\n",
       "      <td>1</td>\n",
       "      <td>2</td>\n",
       "      <td>KR Mayers</td>\n",
       "      <td>...</td>\n",
       "      <td>South Africa</td>\n",
       "      <td>1</td>\n",
       "      <td>1</td>\n",
       "      <td>1</td>\n",
       "      <td>1</td>\n",
       "      <td>1</td>\n",
       "      <td>NaN</td>\n",
       "      <td>NaN</td>\n",
       "      <td>1</td>\n",
       "      <td>1</td>\n",
       "    </tr>\n",
       "    <tr>\n",
       "      <th>2</th>\n",
       "      <td>2</td>\n",
       "      <td>1339605</td>\n",
       "      <td>26-03-2023</td>\n",
       "      <td>SuperSport Park</td>\n",
       "      <td>West Indies</td>\n",
       "      <td>South Africa</td>\n",
       "      <td>1</td>\n",
       "      <td>1</td>\n",
       "      <td>3</td>\n",
       "      <td>BA King</td>\n",
       "      <td>...</td>\n",
       "      <td>South Africa</td>\n",
       "      <td>1</td>\n",
       "      <td>0</td>\n",
       "      <td>1</td>\n",
       "      <td>0</td>\n",
       "      <td>1</td>\n",
       "      <td>1.0</td>\n",
       "      <td>2.0</td>\n",
       "      <td>0</td>\n",
       "      <td>1</td>\n",
       "    </tr>\n",
       "    <tr>\n",
       "      <th>3</th>\n",
       "      <td>3</td>\n",
       "      <td>1339605</td>\n",
       "      <td>26-03-2023</td>\n",
       "      <td>SuperSport Park</td>\n",
       "      <td>West Indies</td>\n",
       "      <td>South Africa</td>\n",
       "      <td>1</td>\n",
       "      <td>1</td>\n",
       "      <td>4</td>\n",
       "      <td>J Charles</td>\n",
       "      <td>...</td>\n",
       "      <td>South Africa</td>\n",
       "      <td>1</td>\n",
       "      <td>0</td>\n",
       "      <td>1</td>\n",
       "      <td>1</td>\n",
       "      <td>1</td>\n",
       "      <td>NaN</td>\n",
       "      <td>NaN</td>\n",
       "      <td>0</td>\n",
       "      <td>1</td>\n",
       "    </tr>\n",
       "    <tr>\n",
       "      <th>4</th>\n",
       "      <td>4</td>\n",
       "      <td>1339605</td>\n",
       "      <td>26-03-2023</td>\n",
       "      <td>SuperSport Park</td>\n",
       "      <td>West Indies</td>\n",
       "      <td>South Africa</td>\n",
       "      <td>1</td>\n",
       "      <td>1</td>\n",
       "      <td>5</td>\n",
       "      <td>J Charles</td>\n",
       "      <td>...</td>\n",
       "      <td>South Africa</td>\n",
       "      <td>1</td>\n",
       "      <td>4</td>\n",
       "      <td>1</td>\n",
       "      <td>2</td>\n",
       "      <td>1</td>\n",
       "      <td>NaN</td>\n",
       "      <td>NaN</td>\n",
       "      <td>4</td>\n",
       "      <td>1</td>\n",
       "    </tr>\n",
       "  </tbody>\n",
       "</table>\n",
       "<p>5 rows × 35 columns</p>\n",
       "</div>"
      ],
      "text/plain": [
       "   Unnamed: 0  Match ID        Date            Venue    Bat First  \\\n",
       "0           0   1339605  26-03-2023  SuperSport Park  West Indies   \n",
       "1           1   1339605  26-03-2023  SuperSport Park  West Indies   \n",
       "2           2   1339605  26-03-2023  SuperSport Park  West Indies   \n",
       "3           3   1339605  26-03-2023  SuperSport Park  West Indies   \n",
       "4           4   1339605  26-03-2023  SuperSport Park  West Indies   \n",
       "\n",
       "     Bat Second  Innings  Over  Ball     Batter  ...        Winner  \\\n",
       "0  South Africa        1     1     1    BA King  ...  South Africa   \n",
       "1  South Africa        1     1     2  KR Mayers  ...  South Africa   \n",
       "2  South Africa        1     1     3    BA King  ...  South Africa   \n",
       "3  South Africa        1     1     4  J Charles  ...  South Africa   \n",
       "4  South Africa        1     1     5  J Charles  ...  South Africa   \n",
       "\n",
       "  Chased Successfully  Total Batter Runs  Total Non Striker Runs  \\\n",
       "0                   1                  1                       0   \n",
       "1                   1                  1                       1   \n",
       "2                   1                  0                       1   \n",
       "3                   1                  0                       1   \n",
       "4                   1                  4                       1   \n",
       "\n",
       "   Batter Balls Faced  Non Striker Balls Faced Player Out Runs  \\\n",
       "0                   1                        0             NaN   \n",
       "1                   1                        1             NaN   \n",
       "2                   0                        1             1.0   \n",
       "3                   1                        1             NaN   \n",
       "4                   2                        1             NaN   \n",
       "\n",
       "   Player Out Balls Faced Bowler Runs Conceded Valid Ball  \n",
       "0                     NaN                    1          1  \n",
       "1                     NaN                    1          1  \n",
       "2                     2.0                    0          1  \n",
       "3                     NaN                    0          1  \n",
       "4                     NaN                    4          1  \n",
       "\n",
       "[5 rows x 35 columns]"
      ]
     },
     "execution_count": 329,
     "metadata": {},
     "output_type": "execute_result"
    }
   ],
   "source": [
    "dataset.head()"
   ]
  },
  {
   "cell_type": "code",
   "execution_count": 330,
   "id": "60590749-e722-4374-9b62-becc43632b7c",
   "metadata": {},
   "outputs": [
    {
     "data": {
      "text/plain": [
       "(113631, 35)"
      ]
     },
     "execution_count": 330,
     "metadata": {},
     "output_type": "execute_result"
    }
   ],
   "source": [
    "dataset.shape"
   ]
  },
  {
   "cell_type": "code",
   "execution_count": 331,
   "id": "89f36a51-503a-4609-9ea2-ad495aa13845",
   "metadata": {},
   "outputs": [
    {
     "name": "stdout",
     "output_type": "stream",
     "text": [
      "<class 'pandas.core.frame.DataFrame'>\n",
      "RangeIndex: 113631 entries, 0 to 113630\n",
      "Data columns (total 35 columns):\n",
      " #   Column                   Non-Null Count   Dtype  \n",
      "---  ------                   --------------   -----  \n",
      " 0   Unnamed: 0               113631 non-null  int64  \n",
      " 1   Match ID                 113631 non-null  int64  \n",
      " 2   Date                     113631 non-null  object \n",
      " 3   Venue                    113631 non-null  object \n",
      " 4   Bat First                113631 non-null  object \n",
      " 5   Bat Second               113631 non-null  object \n",
      " 6   Innings                  113631 non-null  int64  \n",
      " 7   Over                     113631 non-null  int64  \n",
      " 8   Ball                     113631 non-null  int64  \n",
      " 9   Batter                   113631 non-null  object \n",
      " 10  Non Striker              113631 non-null  object \n",
      " 11  Bowler                   113631 non-null  object \n",
      " 12  Batter Runs              113631 non-null  int64  \n",
      " 13  Extra Runs               113631 non-null  int64  \n",
      " 14  Runs From Ball           113631 non-null  int64  \n",
      " 15  Ball Rebowled            113631 non-null  int64  \n",
      " 16  Extra Type               113631 non-null  object \n",
      " 17  Wicket                   113631 non-null  int64  \n",
      " 18  Method                   6265 non-null    object \n",
      " 19  Player Out               6265 non-null    object \n",
      " 20  Innings Runs             113631 non-null  int64  \n",
      " 21  Innings Wickets          113631 non-null  int64  \n",
      " 22  Target Score             113631 non-null  int64  \n",
      " 23  Runs to Get              53267 non-null   float64\n",
      " 24  Balls Remaining          113631 non-null  int64  \n",
      " 25  Winner                   113631 non-null  object \n",
      " 26  Chased Successfully      113631 non-null  int64  \n",
      " 27  Total Batter Runs        113631 non-null  int64  \n",
      " 28  Total Non Striker Runs   113631 non-null  int64  \n",
      " 29  Batter Balls Faced       113631 non-null  int64  \n",
      " 30  Non Striker Balls Faced  113631 non-null  int64  \n",
      " 31  Player Out Runs          6265 non-null    float64\n",
      " 32  Player Out Balls Faced   6265 non-null    float64\n",
      " 33  Bowler Runs Conceded     113631 non-null  int64  \n",
      " 34  Valid Ball               113631 non-null  int64  \n",
      "dtypes: float64(3), int64(21), object(11)\n",
      "memory usage: 30.3+ MB\n"
     ]
    }
   ],
   "source": [
    "dataset.info()"
   ]
  },
  {
   "cell_type": "code",
   "execution_count": 332,
   "id": "9513ed3f-8f30-41c7-aee1-5e43352bc40c",
   "metadata": {},
   "outputs": [
    {
     "data": {
      "text/html": [
       "<div>\n",
       "<style scoped>\n",
       "    .dataframe tbody tr th:only-of-type {\n",
       "        vertical-align: middle;\n",
       "    }\n",
       "\n",
       "    .dataframe tbody tr th {\n",
       "        vertical-align: top;\n",
       "    }\n",
       "\n",
       "    .dataframe thead th {\n",
       "        text-align: right;\n",
       "    }\n",
       "</style>\n",
       "<table border=\"1\" class=\"dataframe\">\n",
       "  <thead>\n",
       "    <tr style=\"text-align: right;\">\n",
       "      <th></th>\n",
       "      <th>Unnamed: 0</th>\n",
       "      <th>Match ID</th>\n",
       "      <th>Innings</th>\n",
       "      <th>Over</th>\n",
       "      <th>Ball</th>\n",
       "      <th>Batter Runs</th>\n",
       "      <th>Extra Runs</th>\n",
       "      <th>Runs From Ball</th>\n",
       "      <th>Ball Rebowled</th>\n",
       "      <th>Wicket</th>\n",
       "      <th>...</th>\n",
       "      <th>Balls Remaining</th>\n",
       "      <th>Chased Successfully</th>\n",
       "      <th>Total Batter Runs</th>\n",
       "      <th>Total Non Striker Runs</th>\n",
       "      <th>Batter Balls Faced</th>\n",
       "      <th>Non Striker Balls Faced</th>\n",
       "      <th>Player Out Runs</th>\n",
       "      <th>Player Out Balls Faced</th>\n",
       "      <th>Bowler Runs Conceded</th>\n",
       "      <th>Valid Ball</th>\n",
       "    </tr>\n",
       "  </thead>\n",
       "  <tbody>\n",
       "    <tr>\n",
       "      <th>count</th>\n",
       "      <td>113631.000000</td>\n",
       "      <td>1.136310e+05</td>\n",
       "      <td>113631.000000</td>\n",
       "      <td>113631.000000</td>\n",
       "      <td>113631.000000</td>\n",
       "      <td>113631.000000</td>\n",
       "      <td>113631.000000</td>\n",
       "      <td>113631.000000</td>\n",
       "      <td>113631.000000</td>\n",
       "      <td>113631.000000</td>\n",
       "      <td>...</td>\n",
       "      <td>113631.000000</td>\n",
       "      <td>113631.000000</td>\n",
       "      <td>113631.000000</td>\n",
       "      <td>113631.000000</td>\n",
       "      <td>113631.000000</td>\n",
       "      <td>113631.000000</td>\n",
       "      <td>6265.000000</td>\n",
       "      <td>6265.000000</td>\n",
       "      <td>113631.000000</td>\n",
       "      <td>113631.000000</td>\n",
       "    </tr>\n",
       "    <tr>\n",
       "      <th>mean</th>\n",
       "      <td>56815.000000</td>\n",
       "      <td>1.084905e+06</td>\n",
       "      <td>1.468772</td>\n",
       "      <td>9.945631</td>\n",
       "      <td>3.488150</td>\n",
       "      <td>1.137603</td>\n",
       "      <td>0.076467</td>\n",
       "      <td>1.214070</td>\n",
       "      <td>0.040632</td>\n",
       "      <td>0.055135</td>\n",
       "      <td>...</td>\n",
       "      <td>62.878695</td>\n",
       "      <td>0.502636</td>\n",
       "      <td>14.794449</td>\n",
       "      <td>14.060820</td>\n",
       "      <td>12.567847</td>\n",
       "      <td>12.263696</td>\n",
       "      <td>15.396010</td>\n",
       "      <td>13.908699</td>\n",
       "      <td>1.186868</td>\n",
       "      <td>0.959368</td>\n",
       "    </tr>\n",
       "    <tr>\n",
       "      <th>std</th>\n",
       "      <td>32802.588556</td>\n",
       "      <td>3.312175e+05</td>\n",
       "      <td>0.499026</td>\n",
       "      <td>5.642274</td>\n",
       "      <td>1.708698</td>\n",
       "      <td>1.545731</td>\n",
       "      <td>0.364279</td>\n",
       "      <td>1.535963</td>\n",
       "      <td>0.197436</td>\n",
       "      <td>0.228244</td>\n",
       "      <td>...</td>\n",
       "      <td>33.890349</td>\n",
       "      <td>0.499995</td>\n",
       "      <td>16.767638</td>\n",
       "      <td>16.082085</td>\n",
       "      <td>11.575381</td>\n",
       "      <td>11.428068</td>\n",
       "      <td>17.704401</td>\n",
       "      <td>12.145127</td>\n",
       "      <td>1.539489</td>\n",
       "      <td>0.197436</td>\n",
       "    </tr>\n",
       "    <tr>\n",
       "      <th>min</th>\n",
       "      <td>0.000000</td>\n",
       "      <td>2.110280e+05</td>\n",
       "      <td>1.000000</td>\n",
       "      <td>1.000000</td>\n",
       "      <td>0.000000</td>\n",
       "      <td>0.000000</td>\n",
       "      <td>0.000000</td>\n",
       "      <td>0.000000</td>\n",
       "      <td>0.000000</td>\n",
       "      <td>0.000000</td>\n",
       "      <td>...</td>\n",
       "      <td>-1.000000</td>\n",
       "      <td>0.000000</td>\n",
       "      <td>0.000000</td>\n",
       "      <td>0.000000</td>\n",
       "      <td>0.000000</td>\n",
       "      <td>0.000000</td>\n",
       "      <td>0.000000</td>\n",
       "      <td>0.000000</td>\n",
       "      <td>0.000000</td>\n",
       "      <td>0.000000</td>\n",
       "    </tr>\n",
       "    <tr>\n",
       "      <th>25%</th>\n",
       "      <td>28407.500000</td>\n",
       "      <td>9.513590e+05</td>\n",
       "      <td>1.000000</td>\n",
       "      <td>5.000000</td>\n",
       "      <td>2.000000</td>\n",
       "      <td>0.000000</td>\n",
       "      <td>0.000000</td>\n",
       "      <td>0.000000</td>\n",
       "      <td>0.000000</td>\n",
       "      <td>0.000000</td>\n",
       "      <td>...</td>\n",
       "      <td>34.000000</td>\n",
       "      <td>0.000000</td>\n",
       "      <td>2.000000</td>\n",
       "      <td>2.000000</td>\n",
       "      <td>4.000000</td>\n",
       "      <td>3.000000</td>\n",
       "      <td>2.000000</td>\n",
       "      <td>5.000000</td>\n",
       "      <td>0.000000</td>\n",
       "      <td>1.000000</td>\n",
       "    </tr>\n",
       "    <tr>\n",
       "      <th>50%</th>\n",
       "      <td>56815.000000</td>\n",
       "      <td>1.251577e+06</td>\n",
       "      <td>1.000000</td>\n",
       "      <td>10.000000</td>\n",
       "      <td>3.000000</td>\n",
       "      <td>1.000000</td>\n",
       "      <td>0.000000</td>\n",
       "      <td>1.000000</td>\n",
       "      <td>0.000000</td>\n",
       "      <td>0.000000</td>\n",
       "      <td>...</td>\n",
       "      <td>64.000000</td>\n",
       "      <td>1.000000</td>\n",
       "      <td>9.000000</td>\n",
       "      <td>8.000000</td>\n",
       "      <td>9.000000</td>\n",
       "      <td>9.000000</td>\n",
       "      <td>9.000000</td>\n",
       "      <td>10.000000</td>\n",
       "      <td>1.000000</td>\n",
       "      <td>1.000000</td>\n",
       "    </tr>\n",
       "    <tr>\n",
       "      <th>75%</th>\n",
       "      <td>85222.500000</td>\n",
       "      <td>1.320977e+06</td>\n",
       "      <td>2.000000</td>\n",
       "      <td>15.000000</td>\n",
       "      <td>5.000000</td>\n",
       "      <td>1.000000</td>\n",
       "      <td>0.000000</td>\n",
       "      <td>1.000000</td>\n",
       "      <td>0.000000</td>\n",
       "      <td>0.000000</td>\n",
       "      <td>...</td>\n",
       "      <td>92.000000</td>\n",
       "      <td>1.000000</td>\n",
       "      <td>21.000000</td>\n",
       "      <td>21.000000</td>\n",
       "      <td>18.000000</td>\n",
       "      <td>18.000000</td>\n",
       "      <td>22.000000</td>\n",
       "      <td>19.000000</td>\n",
       "      <td>1.000000</td>\n",
       "      <td>1.000000</td>\n",
       "    </tr>\n",
       "    <tr>\n",
       "      <th>max</th>\n",
       "      <td>113630.000000</td>\n",
       "      <td>1.391337e+06</td>\n",
       "      <td>2.000000</td>\n",
       "      <td>20.000000</td>\n",
       "      <td>7.000000</td>\n",
       "      <td>6.000000</td>\n",
       "      <td>5.000000</td>\n",
       "      <td>7.000000</td>\n",
       "      <td>1.000000</td>\n",
       "      <td>1.000000</td>\n",
       "      <td>...</td>\n",
       "      <td>120.000000</td>\n",
       "      <td>1.000000</td>\n",
       "      <td>123.000000</td>\n",
       "      <td>122.000000</td>\n",
       "      <td>70.000000</td>\n",
       "      <td>70.000000</td>\n",
       "      <td>123.000000</td>\n",
       "      <td>67.000000</td>\n",
       "      <td>7.000000</td>\n",
       "      <td>1.000000</td>\n",
       "    </tr>\n",
       "  </tbody>\n",
       "</table>\n",
       "<p>8 rows × 24 columns</p>\n",
       "</div>"
      ],
      "text/plain": [
       "          Unnamed: 0      Match ID        Innings           Over  \\\n",
       "count  113631.000000  1.136310e+05  113631.000000  113631.000000   \n",
       "mean    56815.000000  1.084905e+06       1.468772       9.945631   \n",
       "std     32802.588556  3.312175e+05       0.499026       5.642274   \n",
       "min         0.000000  2.110280e+05       1.000000       1.000000   \n",
       "25%     28407.500000  9.513590e+05       1.000000       5.000000   \n",
       "50%     56815.000000  1.251577e+06       1.000000      10.000000   \n",
       "75%     85222.500000  1.320977e+06       2.000000      15.000000   \n",
       "max    113630.000000  1.391337e+06       2.000000      20.000000   \n",
       "\n",
       "                Ball    Batter Runs     Extra Runs  Runs From Ball  \\\n",
       "count  113631.000000  113631.000000  113631.000000   113631.000000   \n",
       "mean        3.488150       1.137603       0.076467        1.214070   \n",
       "std         1.708698       1.545731       0.364279        1.535963   \n",
       "min         0.000000       0.000000       0.000000        0.000000   \n",
       "25%         2.000000       0.000000       0.000000        0.000000   \n",
       "50%         3.000000       1.000000       0.000000        1.000000   \n",
       "75%         5.000000       1.000000       0.000000        1.000000   \n",
       "max         7.000000       6.000000       5.000000        7.000000   \n",
       "\n",
       "       Ball Rebowled         Wicket  ...  Balls Remaining  \\\n",
       "count  113631.000000  113631.000000  ...    113631.000000   \n",
       "mean        0.040632       0.055135  ...        62.878695   \n",
       "std         0.197436       0.228244  ...        33.890349   \n",
       "min         0.000000       0.000000  ...        -1.000000   \n",
       "25%         0.000000       0.000000  ...        34.000000   \n",
       "50%         0.000000       0.000000  ...        64.000000   \n",
       "75%         0.000000       0.000000  ...        92.000000   \n",
       "max         1.000000       1.000000  ...       120.000000   \n",
       "\n",
       "       Chased Successfully  Total Batter Runs  Total Non Striker Runs  \\\n",
       "count        113631.000000      113631.000000           113631.000000   \n",
       "mean              0.502636          14.794449               14.060820   \n",
       "std               0.499995          16.767638               16.082085   \n",
       "min               0.000000           0.000000                0.000000   \n",
       "25%               0.000000           2.000000                2.000000   \n",
       "50%               1.000000           9.000000                8.000000   \n",
       "75%               1.000000          21.000000               21.000000   \n",
       "max               1.000000         123.000000              122.000000   \n",
       "\n",
       "       Batter Balls Faced  Non Striker Balls Faced  Player Out Runs  \\\n",
       "count       113631.000000            113631.000000      6265.000000   \n",
       "mean            12.567847                12.263696        15.396010   \n",
       "std             11.575381                11.428068        17.704401   \n",
       "min              0.000000                 0.000000         0.000000   \n",
       "25%              4.000000                 3.000000         2.000000   \n",
       "50%              9.000000                 9.000000         9.000000   \n",
       "75%             18.000000                18.000000        22.000000   \n",
       "max             70.000000                70.000000       123.000000   \n",
       "\n",
       "       Player Out Balls Faced  Bowler Runs Conceded     Valid Ball  \n",
       "count             6265.000000         113631.000000  113631.000000  \n",
       "mean                13.908699              1.186868       0.959368  \n",
       "std                 12.145127              1.539489       0.197436  \n",
       "min                  0.000000              0.000000       0.000000  \n",
       "25%                  5.000000              0.000000       1.000000  \n",
       "50%                 10.000000              1.000000       1.000000  \n",
       "75%                 19.000000              1.000000       1.000000  \n",
       "max                 67.000000              7.000000       1.000000  \n",
       "\n",
       "[8 rows x 24 columns]"
      ]
     },
     "execution_count": 332,
     "metadata": {},
     "output_type": "execute_result"
    }
   ],
   "source": [
    "dataset.describe()"
   ]
  },
  {
   "cell_type": "code",
   "execution_count": 333,
   "id": "2191a6ba-5d11-4f97-a113-96ad59d4f99f",
   "metadata": {},
   "outputs": [
    {
     "data": {
      "text/plain": [
       "Unnamed: 0                  0.000000\n",
       "Match ID                    0.000000\n",
       "Date                        0.000000\n",
       "Venue                       0.000000\n",
       "Bat First                   0.000000\n",
       "Bat Second                  0.000000\n",
       "Innings                     0.000000\n",
       "Over                        0.000000\n",
       "Ball                        0.000000\n",
       "Batter                      0.000000\n",
       "Non Striker                 0.000000\n",
       "Bowler                      0.000000\n",
       "Batter Runs                 0.000000\n",
       "Extra Runs                  0.000000\n",
       "Runs From Ball              0.000000\n",
       "Ball Rebowled               0.000000\n",
       "Extra Type                  0.000000\n",
       "Wicket                      0.000000\n",
       "Method                     94.486540\n",
       "Player Out                 94.486540\n",
       "Innings Runs                0.000000\n",
       "Innings Wickets             0.000000\n",
       "Target Score                0.000000\n",
       "Runs to Get                53.122827\n",
       "Balls Remaining             0.000000\n",
       "Winner                      0.000000\n",
       "Chased Successfully         0.000000\n",
       "Total Batter Runs           0.000000\n",
       "Total Non Striker Runs      0.000000\n",
       "Batter Balls Faced          0.000000\n",
       "Non Striker Balls Faced     0.000000\n",
       "Player Out Runs            94.486540\n",
       "Player Out Balls Faced     94.486540\n",
       "Bowler Runs Conceded        0.000000\n",
       "Valid Ball                  0.000000\n",
       "dtype: float64"
      ]
     },
     "execution_count": 333,
     "metadata": {},
     "output_type": "execute_result"
    }
   ],
   "source": [
    "# Checking null values\n",
    "\n",
    "(dataset.isnull().sum()/dataset.shape[0])*100"
   ]
  },
  {
   "cell_type": "raw",
   "id": "6d38fe45-fbf1-467b-ab9e-5f9f1b37fe40",
   "metadata": {},
   "source": [
    "# I will check how many times the 'Bat First' team has won and how many times the 'Bat Second' team has won."
   ]
  },
  {
   "cell_type": "code",
   "execution_count": 334,
   "id": "742853fd-bd7c-4a1f-ae9f-e334d9db6982",
   "metadata": {},
   "outputs": [
    {
     "name": "stdout",
     "output_type": "stream",
     "text": [
      "Bat first win time: 236   Bat second win time 259\n",
      "Bat first % 47.68\n",
      "Bat Second % 52.32\n"
     ]
    },
    {
     "data": {
      "image/png": "[encoded data removed]",
      "text/plain": [
       "<Figure size 640x480 with 1 Axes>"
      ]
     },
     "metadata": {},
     "output_type": "display_data"
    }
   ],
   "source": [
    "Total_match= dataset['Match ID'].nunique()\n",
    "\n",
    "Bat_first_win=dataset[dataset['Bat First']==dataset['Winner']]['Match ID'].nunique()\n",
    "Bat_second_win=dataset[dataset['Bat Second']==dataset['Winner']]['Match ID'].nunique()\n",
    "\n",
    "print('Bat first win time:', Bat_first_win, ' ', 'Bat second win time', Bat_second_win)\n",
    "\n",
    "# Bat first  %\n",
    "print('Bat first %',round((Bat_first_win/dataset['Match ID'].nunique())*100,2))\n",
    "\n",
    "# Bat second %\n",
    "print('Bat Second %',round((Bat_second_win/dataset['Match ID'].nunique())*100,2))\n",
    "\n",
    "# plot some graph\n",
    "plt.pie(x=[Bat_first_win,Bat_second_win],autopct='%1.1f%%',labels=['Bat_first_win','Bat_Second_win'])\n",
    "plt.show()\n"
   ]
  },
  {
   "cell_type": "raw",
   "id": "3e0b85a0-567d-43b5-bd55-8aa82a80ba41",
   "metadata": {},
   "source": [
    "# I will create a line plot for the total matches year by year."
   ]
  },
  {
   "cell_type": "code",
   "execution_count": 335,
   "id": "3b084ad2-6051-4497-8191-13600ed7fcf1",
   "metadata": {},
   "outputs": [
    {
     "name": "stderr",
     "output_type": "stream",
     "text": [
      "C:\\Users\\admin\\AppData\\Local\\Temp\\ipykernel_1704\\3265120521.py:2: UserWarning:\n",
      "\n",
      "Parsing dates in %d-%m-%Y format when dayfirst=False (the default) was specified. Pass `dayfirst=True` or specify a format to silence this warning.\n",
      "\n",
      "C:\\Users\\admin\\AppData\\Local\\Programs\\Python\\Python311\\Lib\\site-packages\\seaborn\\_oldcore.py:1119: FutureWarning:\n",
      "\n",
      "use_inf_as_na option is deprecated and will be removed in a future version. Convert inf values to NaN before operating instead.\n",
      "\n",
      "C:\\Users\\admin\\AppData\\Local\\Programs\\Python\\Python311\\Lib\\site-packages\\seaborn\\_oldcore.py:1119: FutureWarning:\n",
      "\n",
      "use_inf_as_na option is deprecated and will be removed in a future version. Convert inf values to NaN before operating instead.\n",
      "\n"
     ]
    },
    {
     "data": {
      "image/png": "[encoded data removed]",
      "text/plain": [
       "<Figure size 1000x600 with 1 Axes>"
      ]
     },
     "metadata": {},
     "output_type": "display_data"
    }
   ],
   "source": [
    "YoY_match=dataset[['Match ID','Date']].drop_duplicates(keep='first')\n",
    "YoY_match['Date'] = pd.to_datetime(YoY_match['Date'])\n",
    "YoY_match['Year']=YoY_match['Date'].dt.year\n",
    "\n",
    "plt.figure(figsize=(10, 6))\n",
    "sn.lineplot(data=YoY_match['Year'].value_counts(),x=YoY_match['Year'].value_counts().index,y=YoY_match['Year'].value_counts().values, marker='o')\n",
    "\n",
    "plt.xticks(rotation=90, ha='right')\n",
    "plt.xlabel('Year')\n",
    "plt.ylabel('Number of Matches')\n",
    "plt.title('Number of Matches Over the Years')\n",
    "\n",
    "plt.show()"
   ]
  },
  {
   "cell_type": "raw",
   "id": "4802e5f3-46d0-4ab2-95ca-05a1298ce746",
   "metadata": {},
   "source": [
    "# Who is the player with the highest runs or the leading wicket-taker?"
   ]
  },
  {
   "cell_type": "code",
   "execution_count": 336,
   "id": "22b21956-b97e-4bbd-b8a2-5a79f71807c9",
   "metadata": {},
   "outputs": [
    {
     "name": "stdout",
     "output_type": "stream",
     "text": [
      "Highest Run Bestmen Batter\n",
      "Babar Azam    1274\n",
      "Name: Batter Runs, dtype: int64    Highest Wicket Bowler Bowler\n",
      "TG Southee    38\n",
      "Name: Wicket, dtype: int64\n"
     ]
    }
   ],
   "source": [
    "#  Highest Run\n",
    "#  Highest Wicket\n",
    "\n",
    "# Highest run player\n",
    "Highest_bestmen=dataset.groupby('Batter')['Batter Runs'].sum().sort_values(ascending=False).head(1)\n",
    "\n",
    "Highest_wicket=dataset.groupby('Bowler')['Wicket'].sum().sort_values(ascending=False).head(1)\n",
    "\n",
    "print('Highest Run Bestmen',Highest_bestmen,' ',' Highest Wicket Bowler',Highest_wicket)\n"
   ]
  },
  {
   "attachments": {},
   "cell_type": "markdown",
   "id": "96da1d12-4d1a-4259-a023-0a84ff235f88",
   "metadata": {},
   "source": [
    "<!-- Who is the player who has played the most matches, and what is the total score? -->"
   ]
  },
  {
   "cell_type": "raw",
   "id": "cef6e0e6-7053-4938-b946-53eed00d8833",
   "metadata": {},
   "source": [
    "# Who is the player who has played the most matches, and what is the total score?"
   ]
  },
  {
   "cell_type": "code",
   "execution_count": 337,
   "id": "e4a79f8b-8717-420f-bd9d-3903c1a23663",
   "metadata": {},
   "outputs": [
    {
     "name": "stdout",
     "output_type": "stream",
     "text": [
      "most matched payed Bestmen is :  Mahmudullah\n",
      " \n",
      "The total runs Mahmudullah : 650\n"
     ]
    }
   ],
   "source": [
    "# Trems of bestmen\n",
    "\n",
    "temp_df=dataset[['Match ID','Batter']].drop_duplicates(keep='first')\n",
    "Better=temp_df['Batter'].value_counts().head(1).index[0]\n",
    "\n",
    "total_runs=dataset[dataset['Batter']==temp_df['Batter'].value_counts().head(1).index[0]]['Batter Runs'].sum()\n",
    "\n",
    "\n",
    "print('most matched payed Bestmen is : ',Better)\n",
    "print(\" \")\n",
    "print('The total runs',Better,':',total_runs)"
   ]
  },
  {
   "cell_type": "raw",
   "id": "f6b35684-6f50-45e3-abfb-d9877675d48b",
   "metadata": {},
   "source": [
    "# Maximum sixes and fours."
   ]
  },
  {
   "cell_type": "code",
   "execution_count": 338,
   "id": "5946c1e1-d1e7-415c-8df8-2e5781d1e5e9",
   "metadata": {},
   "outputs": [
    {
     "name": "stdout",
     "output_type": "stream",
     "text": [
      "highest sixes : N Pooran\n",
      "\n",
      "Highest Four : Babar Azam\n"
     ]
    }
   ],
   "source": [
    "temp_df=dataset[(dataset['Batter Runs']==6)]\n",
    "highest_sixes=temp_df['Batter'].value_counts().head(1).index[0]\n",
    "\n",
    "temp_df=dataset[(dataset['Batter Runs']==4)]\n",
    "highest_four=temp_df['Batter'].value_counts().head(1).index[0]\n",
    "\n",
    "print('highest sixes :',highest_sixes)\n",
    "print()\n",
    "print('Highest Four :', highest_four)"
   ]
  },
  {
   "cell_type": "code",
   "execution_count": 339,
   "id": "c23bec53-7fb1-488e-bd88-d9a61cf6fd8c",
   "metadata": {},
   "outputs": [],
   "source": [
    "# Strike rate.\n",
    "\n",
    "# 10 player highest strike rate:"
   ]
  },
  {
   "cell_type": "code",
   "execution_count": 340,
   "id": "1799b586-4638-48f5-9dfa-69edf99890b6",
   "metadata": {},
   "outputs": [],
   "source": [
    "# Make function for stick rate\n",
    "\n",
    "def Strike_rate(ball,runs):\n",
    "\n",
    "    return (runs/ball)*100"
   ]
  },
  {
   "cell_type": "code",
   "execution_count": 345,
   "id": "b22ad02e-9080-40c9-a5aa-c4b4443032d0",
   "metadata": {},
   "outputs": [],
   "source": [
    "temp_df=dataset[['Batter','Batter Runs']]\n",
    "temp_df=pd.pivot_table(data=temp_df, index='Batter', aggfunc={'Batter Runs': ['count', 'sum']})\n",
    "temp_df.columns = [temp_df.columns[0], 'Total_ball']\n",
    "temp_df.columns = [temp_df.columns[1], 'Total_runs']\n",
    "temp_df['Strike_rate']=Strike_rate(temp_df['Total_ball'],temp_df['Total_runs'])"
   ]
  },
  {
   "cell_type": "code",
   "execution_count": 346,
   "id": "913fa871-c27d-4e02-9175-c5f1a62dd787",
   "metadata": {},
   "outputs": [
    {
     "data": {
      "text/html": [
       "<div>\n",
       "<style scoped>\n",
       "    .dataframe tbody tr th:only-of-type {\n",
       "        vertical-align: middle;\n",
       "    }\n",
       "\n",
       "    .dataframe tbody tr th {\n",
       "        vertical-align: top;\n",
       "    }\n",
       "\n",
       "    .dataframe thead th {\n",
       "        text-align: right;\n",
       "    }\n",
       "</style>\n",
       "<table border=\"1\" class=\"dataframe\">\n",
       "  <thead>\n",
       "    <tr style=\"text-align: right;\">\n",
       "      <th></th>\n",
       "      <th>Total_ball</th>\n",
       "      <th>Total_runs</th>\n",
       "      <th>Strike_rate</th>\n",
       "    </tr>\n",
       "    <tr>\n",
       "      <th>Batter</th>\n",
       "      <th></th>\n",
       "      <th></th>\n",
       "      <th></th>\n",
       "    </tr>\n",
       "  </thead>\n",
       "  <tbody>\n",
       "    <tr>\n",
       "      <th>PM Nevill</th>\n",
       "      <td>3</td>\n",
       "      <td>13</td>\n",
       "      <td>433.333333</td>\n",
       "    </tr>\n",
       "    <tr>\n",
       "      <th>NW Bracken</th>\n",
       "      <td>1</td>\n",
       "      <td>4</td>\n",
       "      <td>400.000000</td>\n",
       "    </tr>\n",
       "    <tr>\n",
       "      <th>Aziz Sualley</th>\n",
       "      <td>1</td>\n",
       "      <td>4</td>\n",
       "      <td>400.000000</td>\n",
       "    </tr>\n",
       "    <tr>\n",
       "      <th>Ashiqullah Said</th>\n",
       "      <td>1</td>\n",
       "      <td>4</td>\n",
       "      <td>400.000000</td>\n",
       "    </tr>\n",
       "    <tr>\n",
       "      <th>Mohammad Asif</th>\n",
       "      <td>1</td>\n",
       "      <td>4</td>\n",
       "      <td>400.000000</td>\n",
       "    </tr>\n",
       "    <tr>\n",
       "      <th>SSB Magala</th>\n",
       "      <td>5</td>\n",
       "      <td>18</td>\n",
       "      <td>360.000000</td>\n",
       "    </tr>\n",
       "    <tr>\n",
       "      <th>LC Le Tissier</th>\n",
       "      <td>9</td>\n",
       "      <td>29</td>\n",
       "      <td>322.222222</td>\n",
       "    </tr>\n",
       "    <tr>\n",
       "      <th>Aamir Lal</th>\n",
       "      <td>12</td>\n",
       "      <td>34</td>\n",
       "      <td>283.333333</td>\n",
       "    </tr>\n",
       "    <tr>\n",
       "      <th>M Yunusu Issa</th>\n",
       "      <td>4</td>\n",
       "      <td>11</td>\n",
       "      <td>275.000000</td>\n",
       "    </tr>\n",
       "    <tr>\n",
       "      <th>GC Galanis</th>\n",
       "      <td>7</td>\n",
       "      <td>19</td>\n",
       "      <td>271.428571</td>\n",
       "    </tr>\n",
       "  </tbody>\n",
       "</table>\n",
       "</div>"
      ],
      "text/plain": [
       "                 Total_ball  Total_runs  Strike_rate\n",
       "Batter                                              \n",
       "PM Nevill                 3          13   433.333333\n",
       "NW Bracken                1           4   400.000000\n",
       "Aziz Sualley              1           4   400.000000\n",
       "Ashiqullah Said           1           4   400.000000\n",
       "Mohammad Asif             1           4   400.000000\n",
       "SSB Magala                5          18   360.000000\n",
       "LC Le Tissier             9          29   322.222222\n",
       "Aamir Lal                12          34   283.333333\n",
       "M Yunusu Issa             4          11   275.000000\n",
       "GC Galanis                7          19   271.428571"
      ]
     },
     "execution_count": 346,
     "metadata": {},
     "output_type": "execute_result"
    }
   ],
   "source": [
    "temp_df.sort_values('Strike_rate',ascending=False).head(10)"
   ]
  },
  {
   "cell_type": "code",
   "execution_count": null,
   "id": "e66ecbec-2f55-41b9-8960-148494d86b6d",
   "metadata": {},
   "outputs": [],
   "source": []
  },
  {
   "cell_type": "code",
   "execution_count": 149,
   "id": "cabf32b8-2e6e-492d-a303-6f1196e088b1",
   "metadata": {},
   "outputs": [],
   "source": [
    "# What are the top 10 venues where the maximum number of matches were played?"
   ]
  },
  {
   "cell_type": "code",
   "execution_count": 150,
   "id": "fa2a101c-e0ba-4bfb-b662-a6865cfcbd80",
   "metadata": {},
   "outputs": [
    {
     "data": {
      "text/plain": [
       "Venue\n",
       "Dubai International Cricket Stadium                        23\n",
       "Gahanga International Cricket Stadium. Rwanda              17\n",
       "Shere Bangla National Stadium                              15\n",
       "Al Amerat Cricket Ground Oman Cricket (Ministry Turf 1)    15\n",
       "Sheikh Zayed Stadium                                       13\n",
       "Integrated Polytechnic Regional Centre                     12\n",
       "Marsa Sports Club                                          12\n",
       "Sharjah Cricket Stadium                                    10\n",
       "ICC Academy                                                 9\n",
       "Kerava National Cricket Ground                              9\n",
       "Name: count, dtype: int64"
      ]
     },
     "execution_count": 150,
     "metadata": {},
     "output_type": "execute_result"
    }
   ],
   "source": [
    "temp_df=dataset[['Venue','Match ID']].drop_duplicates(keep='first')\n",
    "temp_df=temp_df['Venue'].value_counts().head(10)\n",
    "temp_df"
   ]
  },
  {
   "cell_type": "code",
   "execution_count": 151,
   "id": "5a81b9a3-e65f-45f9-a27d-76a0bf9c4a0f",
   "metadata": {},
   "outputs": [
    {
     "data": {
      "image/png": "[encoded data removed]",
      "text/plain": [
       "<Figure size 640x480 with 1 Axes>"
      ]
     },
     "metadata": {},
     "output_type": "display_data"
    }
   ],
   "source": [
    "sn.barplot(y=temp_df.index,x=temp_df.values)\n",
    "plt.xticks(rotation=90, ha='right')\n",
    "plt.savefig('new.png')\n",
    "plt.show()\n"
   ]
  },
  {
   "cell_type": "code",
   "execution_count": 152,
   "id": "e090c710-a659-4cc9-87bf-ce34048b0edc",
   "metadata": {},
   "outputs": [],
   "source": [
    "# Top 10 highest-scoring batsmen."
   ]
  },
  {
   "cell_type": "code",
   "execution_count": 153,
   "id": "b946e870-8942-4a3f-9fe7-3828177a209c",
   "metadata": {},
   "outputs": [
    {
     "data": {
      "image/png": "[encoded data removed]",
      "text/plain": [
       "<Figure size 640x480 with 1 Axes>"
      ]
     },
     "metadata": {},
     "output_type": "display_data"
    },
    {
     "data": {
      "text/plain": [
       "Batter\n",
       "Babar Azam         1274\n",
       "V Kohli             981\n",
       "Mohammad Rizwan     871\n",
       "EJG Morgan          858\n",
       "Mohammad Hafeez     851\n",
       "DA Warner           828\n",
       "RG Sharma           809\n",
       "AJ Finch            714\n",
       "N Pooran            681\n",
       "Mahmudullah         650\n",
       "Name: Batter Runs, dtype: int64"
      ]
     },
     "execution_count": 153,
     "metadata": {},
     "output_type": "execute_result"
    }
   ],
   "source": [
    "temp_df=dataset.groupby('Batter')['Batter Runs'].sum().sort_values(ascending=False).head(10)\n",
    "sn.barplot(x=temp_df.index,y=temp_df.values)\n",
    "plt.xticks(rotation=90, ha='right')\n",
    "plt.savefig('new.png')\n",
    "plt.show()\n",
    "\n",
    "temp_df"
   ]
  },
  {
   "cell_type": "code",
   "execution_count": 154,
   "id": "8f7f998c-0383-444d-a0b7-bcc2d26afe23",
   "metadata": {},
   "outputs": [],
   "source": [
    "# Top 10 wicket-taking bowlers."
   ]
  },
  {
   "cell_type": "code",
   "execution_count": 155,
   "id": "8c0ab122-2a1c-49e3-b536-5746130e4c39",
   "metadata": {},
   "outputs": [
    {
     "data": {
      "image/png": "[encoded data removed]",
      "text/plain": [
       "<Figure size 640x480 with 1 Axes>"
      ]
     },
     "metadata": {},
     "output_type": "display_data"
    },
    {
     "data": {
      "text/plain": [
       "Bowler\n",
       "Rashid Khan        38\n",
       "TG Southee         38\n",
       "SL Malinga         31\n",
       "MR Adair           29\n",
       "Shakib Al Hasan    29\n",
       "IS Sodhi           29\n",
       "J Little           28\n",
       "YS Chahal          28\n",
       "Shahid Afridi      28\n",
       "Shadab Khan        28\n",
       "Name: Wicket, dtype: int64"
      ]
     },
     "execution_count": 155,
     "metadata": {},
     "output_type": "execute_result"
    }
   ],
   "source": [
    "temp_df=dataset[dataset['Wicket']==1][['Bowler','Wicket']]\n",
    "temp_df=temp_df.groupby('Bowler')['Wicket'].sum().sort_values(ascending=False).head(10)\n",
    "sn.barplot(x=temp_df.index,y=temp_df.values)\n",
    "plt.xticks(rotation=90, ha='right')\n",
    "plt.savefig('new.png')\n",
    "plt.show()\n",
    "\n",
    "temp_df"
   ]
  },
  {
   "cell_type": "code",
   "execution_count": 156,
   "id": "6aad34b8-92c7-497a-a4c9-bf8033c77326",
   "metadata": {
    "scrolled": true
   },
   "outputs": [],
   "source": [
    "# Top 10 batsmen (how many times they scored >=100)."
   ]
  },
  {
   "cell_type": "code",
   "execution_count": 157,
   "id": "52467a6c-86dc-4d25-8f81-1314b8e4b271",
   "metadata": {},
   "outputs": [
    {
     "data": {
      "image/png": "[encoded data removed]",
      "text/plain": [
       "<Figure size 640x480 with 1 Axes>"
      ]
     },
     "metadata": {},
     "output_type": "display_data"
    },
    {
     "data": {
      "text/plain": [
       "Batter\n",
       "GJ Maxwell            2\n",
       "RR Rossouw            2\n",
       "CH Gayle              1\n",
       "DJ Hooda              1\n",
       "SA Yadav              1\n",
       "Zeeshan Maqsood       1\n",
       "A Johnson             1\n",
       "Q de Kock             1\n",
       "J Charles             1\n",
       "K Kadowaki-Fleming    1\n",
       "Name: count, dtype: int64"
      ]
     },
     "execution_count": 157,
     "metadata": {},
     "output_type": "execute_result"
    }
   ],
   "source": [
    "temp_df=dataset[['Match ID','Batter','Batter Runs']]\n",
    "\n",
    "temp_df=temp_df.groupby(['Match ID','Batter'])['Batter Runs'].sum()\n",
    "temp_df=temp_df.reset_index()\n",
    "temp_df=temp_df[temp_df['Batter Runs']>=100]\n",
    "temp_df=temp_df['Batter'].value_counts().head(10)\n",
    "\n",
    "# ploting grah\n",
    "sn.barplot(x=temp_df.index,y=temp_df.values)\n",
    "plt.xticks(rotation=90, ha='right')\n",
    "plt.savefig('new.png')\n",
    "plt.show()\n",
    "\n",
    "temp_df"
   ]
  },
  {
   "cell_type": "code",
   "execution_count": 158,
   "id": "6f9a0ec2-1457-4fcf-a9bd-d4cbfce15734",
   "metadata": {},
   "outputs": [],
   "source": [
    "# Top 10 batsmen (how many times they scored >=50)."
   ]
  },
  {
   "cell_type": "code",
   "execution_count": 159,
   "id": "3b3bf15f-317a-419b-9d62-b70742b27b5d",
   "metadata": {},
   "outputs": [
    {
     "name": "stderr",
     "output_type": "stream",
     "text": [
      "C:\\Users\\admin\\AppData\\Local\\Programs\\Python\\Python311\\Lib\\site-packages\\seaborn\\_oldcore.py:1119: FutureWarning:\n",
      "\n",
      "use_inf_as_na option is deprecated and will be removed in a future version. Convert inf values to NaN before operating instead.\n",
      "\n",
      "C:\\Users\\admin\\AppData\\Local\\Programs\\Python\\Python311\\Lib\\site-packages\\seaborn\\_oldcore.py:1119: FutureWarning:\n",
      "\n",
      "use_inf_as_na option is deprecated and will be removed in a future version. Convert inf values to NaN before operating instead.\n",
      "\n"
     ]
    },
    {
     "data": {
      "image/png": "[encoded data removed]",
      "text/plain": [
       "<Figure size 640x480 with 1 Axes>"
      ]
     },
     "metadata": {},
     "output_type": "display_data"
    },
    {
     "data": {
      "text/plain": [
       "Batter\n",
       "Babar Azam         14\n",
       "V Kohli             9\n",
       "DA Warner           8\n",
       "DJ Malan            7\n",
       "Mohammad Rizwan     7\n",
       "Mohammad Hafeez     6\n",
       "SA Yadav            6\n",
       "AJ Finch            6\n",
       "RG Sharma           6\n",
       "Q de Kock           6\n",
       "Name: count, dtype: int64"
      ]
     },
     "execution_count": 159,
     "metadata": {},
     "output_type": "execute_result"
    }
   ],
   "source": [
    "temp_df=dataset[['Match ID','Batter','Batter Runs']]\n",
    "\n",
    "temp_df=temp_df.groupby(['Match ID','Batter'])['Batter Runs'].sum()\n",
    "temp_df=temp_df.reset_index()\n",
    "temp_df=temp_df[temp_df['Batter Runs']>=50]\n",
    "temp_df=temp_df['Batter'].value_counts().head(10)\n",
    "\n",
    "# ploting grah\n",
    "sn.barplot(x=temp_df.index,y=temp_df.values)\n",
    "sn.lineplot(x=temp_df.index,y=temp_df.values)\n",
    "plt.xticks(rotation=90, ha='right')\n",
    "plt.savefig('new.png')\n",
    "plt.show()\n",
    "\n",
    "temp_df"
   ]
  },
  {
   "cell_type": "code",
   "execution_count": 160,
   "id": "f8508455-565a-4880-86cd-feec4e5f3de6",
   "metadata": {},
   "outputs": [],
   "source": [
    "# In which month of the year are the maximum number of matches played?\n",
    "\t\n",
    "# I will plot a graph where the x-axis represents the month and the y-axis represents the total number of matches"
   ]
  },
  {
   "cell_type": "code",
   "execution_count": 161,
   "id": "bbe2eeac-c99a-408b-8304-8af497fe2917",
   "metadata": {},
   "outputs": [
    {
     "name": "stderr",
     "output_type": "stream",
     "text": [
      "C:\\Users\\admin\\AppData\\Local\\Temp\\ipykernel_1704\\3369580821.py:1: UserWarning:\n",
      "\n",
      "Parsing dates in %d-%m-%Y format when dayfirst=False (the default) was specified. Pass `dayfirst=True` or specify a format to silence this warning.\n",
      "\n"
     ]
    }
   ],
   "source": [
    "dataset['Date']=pd.to_datetime(dataset['Date'])\n",
    "# add some column like month year \n",
    "\n",
    "dataset['year']=dataset['Date'].dt.year\n",
    "dataset['month']=dataset['Date'].dt.month_name()\n"
   ]
  },
  {
   "cell_type": "code",
   "execution_count": 162,
   "id": "fbffa139-26f2-436f-baf5-b13679974078",
   "metadata": {},
   "outputs": [
    {
     "data": {
      "image/png": "[encoded data removed]",
      "text/plain": [
       "<Figure size 1200x500 with 2 Axes>"
      ]
     },
     "metadata": {},
     "output_type": "display_data"
    }
   ],
   "source": [
    "temp_df=dataset[['Match ID','month']]\n",
    "temp_df=temp_df.drop_duplicates(keep='first')\n",
    "plt.figure(figsize=(12,5))\n",
    "plt.subplot(121)\n",
    "temp_df['month'].value_counts().plot(kind='bar')\n",
    "\n",
    "plt.subplot(122)\n",
    "temp_df['month'].value_counts().plot(kind='pie',autopct='%1.1f%%')\n",
    "plt.show()\n"
   ]
  },
  {
   "cell_type": "code",
   "execution_count": 163,
   "id": "e5c79f10-a0fa-4457-924e-44a169bd5bbd",
   "metadata": {},
   "outputs": [],
   "source": [
    "# Which are the top 10 teams that have won the maximum number of matches?"
   ]
  },
  {
   "cell_type": "code",
   "execution_count": 164,
   "id": "e1e77b97-247f-42bf-a676-f4c0d0d16544",
   "metadata": {},
   "outputs": [],
   "source": [
    "temp_df=dataset[['Winner','Match ID']]\n",
    "temp_df=temp_df.drop_duplicates()\n",
    "temp_df=temp_df['Winner'].value_counts()\n",
    "temp_df=temp_df.head(10)"
   ]
  },
  {
   "cell_type": "code",
   "execution_count": 165,
   "id": "1427c11f-578d-4acd-aade-011119d71990",
   "metadata": {},
   "outputs": [
    {
     "data": {
      "application/vnd.plotly.v1+json": {
       "config": {
        "plotlyServerURL": "https://plot.ly"
       },
       "data": [
        {
         "alignmentgroup": "True",
         "hovertemplate": "Winner=%{x}<br>y=%{y}<extra></extra>",
         "legendgroup": "",
         "marker": {
          "color": "#636efa",
          "pattern": {
           "shape": ""
          }
         },
         "name": "",
         "offsetgroup": "",
         "orientation": "v",
         "showlegend": false,
         "textposition": "auto",
         "type": "bar",
         "x": [
          "Pakistan",
          "India",
          "England",
          "Australia",
          "Sri Lanka",
          "New Zealand",
          "South Africa",
          "Afghanistan",
          "Ireland",
          "West Indies"
         ],
         "xaxis": "x",
         "y": [
          37,
          32,
          27,
          24,
          24,
          23,
          21,
          19,
          15,
          14
         ],
         "yaxis": "y"
        }
       ],
       "layout": {
        "autosize": true,
        "barmode": "relative",
        "legend": {
         "tracegroupgap": 0
        },
        "margin": {
         "t": 60
        },
        "template": {
         "data": {
          "bar": [
           {
            "error_x": {
             "color": "#2a3f5f"
            },
            "error_y": {
             "color": "#2a3f5f"
            },
            "marker": {
             "line": {
              "color": "#E5ECF6",
              "width": 0.5
             },
             "pattern": {
              "fillmode": "overlay",
              "size": 10,
              "solidity": 0.2
             }
            },
            "type": "bar"
           }
          ],
          "barpolar": [
           {
            "marker": {
             "line": {
              "color": "#E5ECF6",
              "width": 0.5
             },
             "pattern": {
              "fillmode": "overlay",
              "size": 10,
              "solidity": 0.2
             }
            },
            "type": "barpolar"
           }
          ],
          "carpet": [
           {
            "aaxis": {
             "endlinecolor": "#2a3f5f",
             "gridcolor": "white",
             "linecolor": "white",
             "minorgridcolor": "white",
             "startlinecolor": "#2a3f5f"
            },
            "baxis": {
             "endlinecolor": "#2a3f5f",
             "gridcolor": "white",
             "linecolor": "white",
             "minorgridcolor": "white",
             "startlinecolor": "#2a3f5f"
            },
            "type": "carpet"
           }
          ],
          "choropleth": [
           {
            "colorbar": {
             "outlinewidth": 0,
             "ticks": ""
            },
            "type": "choropleth"
           }
          ],
          "contour": [
           {
            "colorbar": {
             "outlinewidth": 0,
             "ticks": ""
            },
            "colorscale": [
             [
              0,
              "#0d0887"
             ],
             [
              0.1111111111111111,
              "#46039f"
             ],
             [
              0.2222222222222222,
              "#7201a8"
             ],
             [
              0.3333333333333333,
              "#9c179e"
             ],
             [
              0.4444444444444444,
              "#bd3786"
             ],
             [
              0.5555555555555556,
              "#d8576b"
             ],
             [
              0.6666666666666666,
              "#ed7953"
             ],
             [
              0.7777777777777778,
              "#fb9f3a"
             ],
             [
              0.8888888888888888,
              "#fdca26"
             ],
             [
              1,
              "#f0f921"
             ]
            ],
            "type": "contour"
           }
          ],
          "contourcarpet": [
           {
            "colorbar": {
             "outlinewidth": 0,
             "ticks": ""
            },
            "type": "contourcarpet"
           }
          ],
          "heatmap": [
           {
            "colorbar": {
             "outlinewidth": 0,
             "ticks": ""
            },
            "colorscale": [
             [
              0,
              "#0d0887"
             ],
             [
              0.1111111111111111,
              "#46039f"
             ],
             [
              0.2222222222222222,
              "#7201a8"
             ],
             [
              0.3333333333333333,
              "#9c179e"
             ],
             [
              0.4444444444444444,
              "#bd3786"
             ],
             [
              0.5555555555555556,
              "#d8576b"
             ],
             [
              0.6666666666666666,
              "#ed7953"
             ],
             [
              0.7777777777777778,
              "#fb9f3a"
             ],
             [
              0.8888888888888888,
              "#fdca26"
             ],
             [
              1,
              "#f0f921"
             ]
            ],
            "type": "heatmap"
           }
          ],
          "heatmapgl": [
           {
            "colorbar": {
             "outlinewidth": 0,
             "ticks": ""
            },
            "colorscale": [
             [
              0,
              "#0d0887"
             ],
             [
              0.1111111111111111,
              "#46039f"
             ],
             [
              0.2222222222222222,
              "#7201a8"
             ],
             [
              0.3333333333333333,
              "#9c179e"
             ],
             [
              0.4444444444444444,
              "#bd3786"
             ],
             [
              0.5555555555555556,
              "#d8576b"
             ],
             [
              0.6666666666666666,
              "#ed7953"
             ],
             [
              0.7777777777777778,
              "#fb9f3a"
             ],
             [
              0.8888888888888888,
              "#fdca26"
             ],
             [
              1,
              "#f0f921"
             ]
            ],
            "type": "heatmapgl"
           }
          ],
          "histogram": [
           {
            "marker": {
             "pattern": {
              "fillmode": "overlay",
              "size": 10,
              "solidity": 0.2
             }
            },
            "type": "histogram"
           }
          ],
          "histogram2d": [
           {
            "colorbar": {
             "outlinewidth": 0,
             "ticks": ""
            },
            "colorscale": [
             [
              0,
              "#0d0887"
             ],
             [
              0.1111111111111111,
              "#46039f"
             ],
             [
              0.2222222222222222,
              "#7201a8"
             ],
             [
              0.3333333333333333,
              "#9c179e"
             ],
             [
              0.4444444444444444,
              "#bd3786"
             ],
             [
              0.5555555555555556,
              "#d8576b"
             ],
             [
              0.6666666666666666,
              "#ed7953"
             ],
             [
              0.7777777777777778,
              "#fb9f3a"
             ],
             [
              0.8888888888888888,
              "#fdca26"
             ],
             [
              1,
              "#f0f921"
             ]
            ],
            "type": "histogram2d"
           }
          ],
          "histogram2dcontour": [
           {
            "colorbar": {
             "outlinewidth": 0,
             "ticks": ""
            },
            "colorscale": [
             [
              0,
              "#0d0887"
             ],
             [
              0.1111111111111111,
              "#46039f"
             ],
             [
              0.2222222222222222,
              "#7201a8"
             ],
             [
              0.3333333333333333,
              "#9c179e"
             ],
             [
              0.4444444444444444,
              "#bd3786"
             ],
             [
              0.5555555555555556,
              "#d8576b"
             ],
             [
              0.6666666666666666,
              "#ed7953"
             ],
             [
              0.7777777777777778,
              "#fb9f3a"
             ],
             [
              0.8888888888888888,
              "#fdca26"
             ],
             [
              1,
              "#f0f921"
             ]
            ],
            "type": "histogram2dcontour"
           }
          ],
          "mesh3d": [
           {
            "colorbar": {
             "outlinewidth": 0,
             "ticks": ""
            },
            "type": "mesh3d"
           }
          ],
          "parcoords": [
           {
            "line": {
             "colorbar": {
              "outlinewidth": 0,
              "ticks": ""
             }
            },
            "type": "parcoords"
           }
          ],
          "pie": [
           {
            "automargin": true,
            "type": "pie"
           }
          ],
          "scatter": [
           {
            "fillpattern": {
             "fillmode": "overlay",
             "size": 10,
             "solidity": 0.2
            },
            "type": "scatter"
           }
          ],
          "scatter3d": [
           {
            "line": {
             "colorbar": {
              "outlinewidth": 0,
              "ticks": ""
             }
            },
            "marker": {
             "colorbar": {
              "outlinewidth": 0,
              "ticks": ""
             }
            },
            "type": "scatter3d"
           }
          ],
          "scattercarpet": [
           {
            "marker": {
             "colorbar": {
              "outlinewidth": 0,
              "ticks": ""
             }
            },
            "type": "scattercarpet"
           }
          ],
          "scattergeo": [
           {
            "marker": {
             "colorbar": {
              "outlinewidth": 0,
              "ticks": ""
             }
            },
            "type": "scattergeo"
           }
          ],
          "scattergl": [
           {
            "marker": {
             "colorbar": {
              "outlinewidth": 0,
              "ticks": ""
             }
            },
            "type": "scattergl"
           }
          ],
          "scattermapbox": [
           {
            "marker": {
             "colorbar": {
              "outlinewidth": 0,
              "ticks": ""
             }
            },
            "type": "scattermapbox"
           }
          ],
          "scatterpolar": [
           {
            "marker": {
             "colorbar": {
              "outlinewidth": 0,
              "ticks": ""
             }
            },
            "type": "scatterpolar"
           }
          ],
          "scatterpolargl": [
           {
            "marker": {
             "colorbar": {
              "outlinewidth": 0,
              "ticks": ""
             }
            },
            "type": "scatterpolargl"
           }
          ],
          "scatterternary": [
           {
            "marker": {
             "colorbar": {
              "outlinewidth": 0,
              "ticks": ""
             }
            },
            "type": "scatterternary"
           }
          ],
          "surface": [
           {
            "colorbar": {
             "outlinewidth": 0,
             "ticks": ""
            },
            "colorscale": [
             [
              0,
              "#0d0887"
             ],
             [
              0.1111111111111111,
              "#46039f"
             ],
             [
              0.2222222222222222,
              "#7201a8"
             ],
             [
              0.3333333333333333,
              "#9c179e"
             ],
             [
              0.4444444444444444,
              "#bd3786"
             ],
             [
              0.5555555555555556,
              "#d8576b"
             ],
             [
              0.6666666666666666,
              "#ed7953"
             ],
             [
              0.7777777777777778,
              "#fb9f3a"
             ],
             [
              0.8888888888888888,
              "#fdca26"
             ],
             [
              1,
              "#f0f921"
             ]
            ],
            "type": "surface"
           }
          ],
          "table": [
           {
            "cells": {
             "fill": {
              "color": "#EBF0F8"
             },
             "line": {
              "color": "white"
             }
            },
            "header": {
             "fill": {
              "color": "#C8D4E3"
             },
             "line": {
              "color": "white"
             }
            },
            "type": "table"
           }
          ]
         },
         "layout": {
          "annotationdefaults": {
           "arrowcolor": "#2a3f5f",
           "arrowhead": 0,
           "arrowwidth": 1
          },
          "autotypenumbers": "strict",
          "coloraxis": {
           "colorbar": {
            "outlinewidth": 0,
            "ticks": ""
           }
          },
          "colorscale": {
           "diverging": [
            [
             0,
             "#8e0152"
            ],
            [
             0.1,
             "#c51b7d"
            ],
            [
             0.2,
             "#de77ae"
            ],
            [
             0.3,
             "#f1b6da"
            ],
            [
             0.4,
             "#fde0ef"
            ],
            [
             0.5,
             "#f7f7f7"
            ],
            [
             0.6,
             "#e6f5d0"
            ],
            [
             0.7,
             "#b8e186"
            ],
            [
             0.8,
             "#7fbc41"
            ],
            [
             0.9,
             "#4d9221"
            ],
            [
             1,
             "#276419"
            ]
           ],
           "sequential": [
            [
             0,
             "#0d0887"
            ],
            [
             0.1111111111111111,
             "#46039f"
            ],
            [
             0.2222222222222222,
             "#7201a8"
            ],
            [
             0.3333333333333333,
             "#9c179e"
            ],
            [
             0.4444444444444444,
             "#bd3786"
            ],
            [
             0.5555555555555556,
             "#d8576b"
            ],
            [
             0.6666666666666666,
             "#ed7953"
            ],
            [
             0.7777777777777778,
             "#fb9f3a"
            ],
            [
             0.8888888888888888,
             "#fdca26"
            ],
            [
             1,
             "#f0f921"
            ]
           ],
           "sequentialminus": [
            [
             0,
             "#0d0887"
            ],
            [
             0.1111111111111111,
             "#46039f"
            ],
            [
             0.2222222222222222,
             "#7201a8"
            ],
            [
             0.3333333333333333,
             "#9c179e"
            ],
            [
             0.4444444444444444,
             "#bd3786"
            ],
            [
             0.5555555555555556,
             "#d8576b"
            ],
            [
             0.6666666666666666,
             "#ed7953"
            ],
            [
             0.7777777777777778,
             "#fb9f3a"
            ],
            [
             0.8888888888888888,
             "#fdca26"
            ],
            [
             1,
             "#f0f921"
            ]
           ]
          },
          "colorway": [
           "#636efa",
           "#EF553B",
           "#00cc96",
           "#ab63fa",
           "#FFA15A",
           "#19d3f3",
           "#FF6692",
           "#B6E880",
           "#FF97FF",
           "#FECB52"
          ],
          "font": {
           "color": "#2a3f5f"
          },
          "geo": {
           "bgcolor": "white",
           "lakecolor": "white",
           "landcolor": "#E5ECF6",
           "showlakes": true,
           "showland": true,
           "subunitcolor": "white"
          },
          "hoverlabel": {
           "align": "left"
          },
          "hovermode": "closest",
          "mapbox": {
           "style": "light"
          },
          "paper_bgcolor": "white",
          "plot_bgcolor": "#E5ECF6",
          "polar": {
           "angularaxis": {
            "gridcolor": "white",
            "linecolor": "white",
            "ticks": ""
           },
           "bgcolor": "#E5ECF6",
           "radialaxis": {
            "gridcolor": "white",
            "linecolor": "white",
            "ticks": ""
           }
          },
          "scene": {
           "xaxis": {
            "backgroundcolor": "#E5ECF6",
            "gridcolor": "white",
            "gridwidth": 2,
            "linecolor": "white",
            "showbackground": true,
            "ticks": "",
            "zerolinecolor": "white"
           },
           "yaxis": {
            "backgroundcolor": "#E5ECF6",
            "gridcolor": "white",
            "gridwidth": 2,
            "linecolor": "white",
            "showbackground": true,
            "ticks": "",
            "zerolinecolor": "white"
           },
           "zaxis": {
            "backgroundcolor": "#E5ECF6",
            "gridcolor": "white",
            "gridwidth": 2,
            "linecolor": "white",
            "showbackground": true,
            "ticks": "",
            "zerolinecolor": "white"
           }
          },
          "shapedefaults": {
           "line": {
            "color": "#2a3f5f"
           }
          },
          "ternary": {
           "aaxis": {
            "gridcolor": "white",
            "linecolor": "white",
            "ticks": ""
           },
           "baxis": {
            "gridcolor": "white",
            "linecolor": "white",
            "ticks": ""
           },
           "bgcolor": "#E5ECF6",
           "caxis": {
            "gridcolor": "white",
            "linecolor": "white",
            "ticks": ""
           }
          },
          "title": {
           "x": 0.05
          },
          "xaxis": {
           "automargin": true,
           "gridcolor": "white",
           "linecolor": "white",
           "ticks": "",
           "title": {
            "standoff": 15
           },
           "zerolinecolor": "white",
           "zerolinewidth": 2
          },
          "yaxis": {
           "automargin": true,
           "gridcolor": "white",
           "linecolor": "white",
           "ticks": "",
           "title": {
            "standoff": 15
           },
           "zerolinecolor": "white",
           "zerolinewidth": 2
          }
         }
        },
        "xaxis": {
         "anchor": "y",
         "autorange": true,
         "domain": [
          0,
          1
         ],
         "range": [
          -0.5,
          9.5
         ],
         "title": {
          "text": "Winner"
         },
         "type": "category"
        },
        "yaxis": {
         "anchor": "x",
         "autorange": true,
         "domain": [
          0,
          1
         ],
         "range": [
          0,
          38.94736842105263
         ],
         "title": {
          "text": "y"
         },
         "type": "linear"
        }
       }
      },
      "image/png": "[encoded data removed]",
      "text/html": [
       "<div>                            <div id=\"37bc3312-318c-4dbd-9096-8595c032950f\" class=\"plotly-graph-div\" style=\"height:525px; width:100%;\"></div>            <script type=\"text/javascript\">                require([\"plotly\"], function(Plotly) {                    window.PLOTLYENV=window.PLOTLYENV || {};                                    if (document.getElementById(\"37bc3312-318c-4dbd-9096-8595c032950f\")) {                    Plotly.newPlot(                        \"37bc3312-318c-4dbd-9096-8595c032950f\",                        [{\"alignmentgroup\":\"True\",\"hovertemplate\":\"Winner=%{x}\\u003cbr\\u003ey=%{y}\\u003cextra\\u003e\\u003c\\u002fextra\\u003e\",\"legendgroup\":\"\",\"marker\":{\"color\":\"#636efa\",\"pattern\":{\"shape\":\"\"}},\"name\":\"\",\"offsetgroup\":\"\",\"orientation\":\"v\",\"showlegend\":false,\"textposition\":\"auto\",\"x\":[\"Pakistan\",\"India\",\"England\",\"Australia\",\"Sri Lanka\",\"New Zealand\",\"South Africa\",\"Afghanistan\",\"Ireland\",\"West Indies\"],\"xaxis\":\"x\",\"y\":[37,32,27,24,24,23,21,19,15,14],\"yaxis\":\"y\",\"type\":\"bar\"}],                        {\"template\":{\"data\":{\"histogram2dcontour\":[{\"type\":\"histogram2dcontour\",\"colorbar\":{\"outlinewidth\":0,\"ticks\":\"\"},\"colorscale\":[[0.0,\"#0d0887\"],[0.1111111111111111,\"#46039f\"],[0.2222222222222222,\"#7201a8\"],[0.3333333333333333,\"#9c179e\"],[0.4444444444444444,\"#bd3786\"],[0.5555555555555556,\"#d8576b\"],[0.6666666666666666,\"#ed7953\"],[0.7777777777777778,\"#fb9f3a\"],[0.8888888888888888,\"#fdca26\"],[1.0,\"#f0f921\"]]}],\"choropleth\":[{\"type\":\"choropleth\",\"colorbar\":{\"outlinewidth\":0,\"ticks\":\"\"}}],\"histogram2d\":[{\"type\":\"histogram2d\",\"colorbar\":{\"outlinewidth\":0,\"ticks\":\"\"},\"colorscale\":[[0.0,\"#0d0887\"],[0.1111111111111111,\"#46039f\"],[0.2222222222222222,\"#7201a8\"],[0.3333333333333333,\"#9c179e\"],[0.4444444444444444,\"#bd3786\"],[0.5555555555555556,\"#d8576b\"],[0.6666666666666666,\"#ed7953\"],[0.7777777777777778,\"#fb9f3a\"],[0.8888888888888888,\"#fdca26\"],[1.0,\"#f0f921\"]]}],\"heatmap\":[{\"type\":\"heatmap\",\"colorbar\":{\"outlinewidth\":0,\"ticks\":\"\"},\"colorscale\":[[0.0,\"#0d0887\"],[0.1111111111111111,\"#46039f\"],[0.2222222222222222,\"#7201a8\"],[0.3333333333333333,\"#9c179e\"],[0.4444444444444444,\"#bd3786\"],[0.5555555555555556,\"#d8576b\"],[0.6666666666666666,\"#ed7953\"],[0.7777777777777778,\"#fb9f3a\"],[0.8888888888888888,\"#fdca26\"],[1.0,\"#f0f921\"]]}],\"heatmapgl\":[{\"type\":\"heatmapgl\",\"colorbar\":{\"outlinewidth\":0,\"ticks\":\"\"},\"colorscale\":[[0.0,\"#0d0887\"],[0.1111111111111111,\"#46039f\"],[0.2222222222222222,\"#7201a8\"],[0.3333333333333333,\"#9c179e\"],[0.4444444444444444,\"#bd3786\"],[0.5555555555555556,\"#d8576b\"],[0.6666666666666666,\"#ed7953\"],[0.7777777777777778,\"#fb9f3a\"],[0.8888888888888888,\"#fdca26\"],[1.0,\"#f0f921\"]]}],\"contourcarpet\":[{\"type\":\"contourcarpet\",\"colorbar\":{\"outlinewidth\":0,\"ticks\":\"\"}}],\"contour\":[{\"type\":\"contour\",\"colorbar\":{\"outlinewidth\":0,\"ticks\":\"\"},\"colorscale\":[[0.0,\"#0d0887\"],[0.1111111111111111,\"#46039f\"],[0.2222222222222222,\"#7201a8\"],[0.3333333333333333,\"#9c179e\"],[0.4444444444444444,\"#bd3786\"],[0.5555555555555556,\"#d8576b\"],[0.6666666666666666,\"#ed7953\"],[0.7777777777777778,\"#fb9f3a\"],[0.8888888888888888,\"#fdca26\"],[1.0,\"#f0f921\"]]}],\"surface\":[{\"type\":\"surface\",\"colorbar\":{\"outlinewidth\":0,\"ticks\":\"\"},\"colorscale\":[[0.0,\"#0d0887\"],[0.1111111111111111,\"#46039f\"],[0.2222222222222222,\"#7201a8\"],[0.3333333333333333,\"#9c179e\"],[0.4444444444444444,\"#bd3786\"],[0.5555555555555556,\"#d8576b\"],[0.6666666666666666,\"#ed7953\"],[0.7777777777777778,\"#fb9f3a\"],[0.8888888888888888,\"#fdca26\"],[1.0,\"#f0f921\"]]}],\"mesh3d\":[{\"type\":\"mesh3d\",\"colorbar\":{\"outlinewidth\":0,\"ticks\":\"\"}}],\"scatter\":[{\"fillpattern\":{\"fillmode\":\"overlay\",\"size\":10,\"solidity\":0.2},\"type\":\"scatter\"}],\"parcoords\":[{\"type\":\"parcoords\",\"line\":{\"colorbar\":{\"outlinewidth\":0,\"ticks\":\"\"}}}],\"scatterpolargl\":[{\"type\":\"scatterpolargl\",\"marker\":{\"colorbar\":{\"outlinewidth\":0,\"ticks\":\"\"}}}],\"bar\":[{\"error_x\":{\"color\":\"#2a3f5f\"},\"error_y\":{\"color\":\"#2a3f5f\"},\"marker\":{\"line\":{\"color\":\"#E5ECF6\",\"width\":0.5},\"pattern\":{\"fillmode\":\"overlay\",\"size\":10,\"solidity\":0.2}},\"type\":\"bar\"}],\"scattergeo\":[{\"type\":\"scattergeo\",\"marker\":{\"colorbar\":{\"outlinewidth\":0,\"ticks\":\"\"}}}],\"scatterpolar\":[{\"type\":\"scatterpolar\",\"marker\":{\"colorbar\":{\"outlinewidth\":0,\"ticks\":\"\"}}}],\"histogram\":[{\"marker\":{\"pattern\":{\"fillmode\":\"overlay\",\"size\":10,\"solidity\":0.2}},\"type\":\"histogram\"}],\"scattergl\":[{\"type\":\"scattergl\",\"marker\":{\"colorbar\":{\"outlinewidth\":0,\"ticks\":\"\"}}}],\"scatter3d\":[{\"type\":\"scatter3d\",\"line\":{\"colorbar\":{\"outlinewidth\":0,\"ticks\":\"\"}},\"marker\":{\"colorbar\":{\"outlinewidth\":0,\"ticks\":\"\"}}}],\"scattermapbox\":[{\"type\":\"scattermapbox\",\"marker\":{\"colorbar\":{\"outlinewidth\":0,\"ticks\":\"\"}}}],\"scatterternary\":[{\"type\":\"scatterternary\",\"marker\":{\"colorbar\":{\"outlinewidth\":0,\"ticks\":\"\"}}}],\"scattercarpet\":[{\"type\":\"scattercarpet\",\"marker\":{\"colorbar\":{\"outlinewidth\":0,\"ticks\":\"\"}}}],\"carpet\":[{\"aaxis\":{\"endlinecolor\":\"#2a3f5f\",\"gridcolor\":\"white\",\"linecolor\":\"white\",\"minorgridcolor\":\"white\",\"startlinecolor\":\"#2a3f5f\"},\"baxis\":{\"endlinecolor\":\"#2a3f5f\",\"gridcolor\":\"white\",\"linecolor\":\"white\",\"minorgridcolor\":\"white\",\"startlinecolor\":\"#2a3f5f\"},\"type\":\"carpet\"}],\"table\":[{\"cells\":{\"fill\":{\"color\":\"#EBF0F8\"},\"line\":{\"color\":\"white\"}},\"header\":{\"fill\":{\"color\":\"#C8D4E3\"},\"line\":{\"color\":\"white\"}},\"type\":\"table\"}],\"barpolar\":[{\"marker\":{\"line\":{\"color\":\"#E5ECF6\",\"width\":0.5},\"pattern\":{\"fillmode\":\"overlay\",\"size\":10,\"solidity\":0.2}},\"type\":\"barpolar\"}],\"pie\":[{\"automargin\":true,\"type\":\"pie\"}]},\"layout\":{\"autotypenumbers\":\"strict\",\"colorway\":[\"#636efa\",\"#EF553B\",\"#00cc96\",\"#ab63fa\",\"#FFA15A\",\"#19d3f3\",\"#FF6692\",\"#B6E880\",\"#FF97FF\",\"#FECB52\"],\"font\":{\"color\":\"#2a3f5f\"},\"hovermode\":\"closest\",\"hoverlabel\":{\"align\":\"left\"},\"paper_bgcolor\":\"white\",\"plot_bgcolor\":\"#E5ECF6\",\"polar\":{\"bgcolor\":\"#E5ECF6\",\"angularaxis\":{\"gridcolor\":\"white\",\"linecolor\":\"white\",\"ticks\":\"\"},\"radialaxis\":{\"gridcolor\":\"white\",\"linecolor\":\"white\",\"ticks\":\"\"}},\"ternary\":{\"bgcolor\":\"#E5ECF6\",\"aaxis\":{\"gridcolor\":\"white\",\"linecolor\":\"white\",\"ticks\":\"\"},\"baxis\":{\"gridcolor\":\"white\",\"linecolor\":\"white\",\"ticks\":\"\"},\"caxis\":{\"gridcolor\":\"white\",\"linecolor\":\"white\",\"ticks\":\"\"}},\"coloraxis\":{\"colorbar\":{\"outlinewidth\":0,\"ticks\":\"\"}},\"colorscale\":{\"sequential\":[[0.0,\"#0d0887\"],[0.1111111111111111,\"#46039f\"],[0.2222222222222222,\"#7201a8\"],[0.3333333333333333,\"#9c179e\"],[0.4444444444444444,\"#bd3786\"],[0.5555555555555556,\"#d8576b\"],[0.6666666666666666,\"#ed7953\"],[0.7777777777777778,\"#fb9f3a\"],[0.8888888888888888,\"#fdca26\"],[1.0,\"#f0f921\"]],\"sequentialminus\":[[0.0,\"#0d0887\"],[0.1111111111111111,\"#46039f\"],[0.2222222222222222,\"#7201a8\"],[0.3333333333333333,\"#9c179e\"],[0.4444444444444444,\"#bd3786\"],[0.5555555555555556,\"#d8576b\"],[0.6666666666666666,\"#ed7953\"],[0.7777777777777778,\"#fb9f3a\"],[0.8888888888888888,\"#fdca26\"],[1.0,\"#f0f921\"]],\"diverging\":[[0,\"#8e0152\"],[0.1,\"#c51b7d\"],[0.2,\"#de77ae\"],[0.3,\"#f1b6da\"],[0.4,\"#fde0ef\"],[0.5,\"#f7f7f7\"],[0.6,\"#e6f5d0\"],[0.7,\"#b8e186\"],[0.8,\"#7fbc41\"],[0.9,\"#4d9221\"],[1,\"#276419\"]]},\"xaxis\":{\"gridcolor\":\"white\",\"linecolor\":\"white\",\"ticks\":\"\",\"title\":{\"standoff\":15},\"zerolinecolor\":\"white\",\"automargin\":true,\"zerolinewidth\":2},\"yaxis\":{\"gridcolor\":\"white\",\"linecolor\":\"white\",\"ticks\":\"\",\"title\":{\"standoff\":15},\"zerolinecolor\":\"white\",\"automargin\":true,\"zerolinewidth\":2},\"scene\":{\"xaxis\":{\"backgroundcolor\":\"#E5ECF6\",\"gridcolor\":\"white\",\"linecolor\":\"white\",\"showbackground\":true,\"ticks\":\"\",\"zerolinecolor\":\"white\",\"gridwidth\":2},\"yaxis\":{\"backgroundcolor\":\"#E5ECF6\",\"gridcolor\":\"white\",\"linecolor\":\"white\",\"showbackground\":true,\"ticks\":\"\",\"zerolinecolor\":\"white\",\"gridwidth\":2},\"zaxis\":{\"backgroundcolor\":\"#E5ECF6\",\"gridcolor\":\"white\",\"linecolor\":\"white\",\"showbackground\":true,\"ticks\":\"\",\"zerolinecolor\":\"white\",\"gridwidth\":2}},\"shapedefaults\":{\"line\":{\"color\":\"#2a3f5f\"}},\"annotationdefaults\":{\"arrowcolor\":\"#2a3f5f\",\"arrowhead\":0,\"arrowwidth\":1},\"geo\":{\"bgcolor\":\"white\",\"landcolor\":\"#E5ECF6\",\"subunitcolor\":\"white\",\"showland\":true,\"showlakes\":true,\"lakecolor\":\"white\"},\"title\":{\"x\":0.05},\"mapbox\":{\"style\":\"light\"}}},\"xaxis\":{\"anchor\":\"y\",\"domain\":[0.0,1.0],\"title\":{\"text\":\"Winner\"}},\"yaxis\":{\"anchor\":\"x\",\"domain\":[0.0,1.0],\"title\":{\"text\":\"y\"}},\"legend\":{\"tracegroupgap\":0},\"margin\":{\"t\":60},\"barmode\":\"relative\"},                        {\"responsive\": true}                    ).then(function(){\n",
       "                            \n",
       "var gd = document.getElementById('37bc3312-318c-4dbd-9096-8595c032950f');\n",
       "var x = new MutationObserver(function (mutations, observer) {{\n",
       "        var display = window.getComputedStyle(gd).display;\n",
       "        if (!display || display === 'none') {{\n",
       "            console.log([gd, 'removed!']);\n",
       "            Plotly.purge(gd);\n",
       "            observer.disconnect();\n",
       "        }}\n",
       "}});\n",
       "\n",
       "// Listen for the removal of the full notebook cells\n",
       "var notebookContainer = gd.closest('#notebook-container');\n",
       "if (notebookContainer) {{\n",
       "    x.observe(notebookContainer, {childList: true});\n",
       "}}\n",
       "\n",
       "// Listen for the clearing of the current output cell\n",
       "var outputEl = gd.closest('.output');\n",
       "if (outputEl) {{\n",
       "    x.observe(outputEl, {childList: true});\n",
       "}}\n",
       "\n",
       "                        })                };                });            </script>        </div>"
      ]
     },
     "metadata": {},
     "output_type": "display_data"
    }
   ],
   "source": [
    "# Assuming 'temp_df' is your DataFrame\n",
    "import plotly.express as px\n",
    "fig = px.bar(temp_df, x=temp_df.index, y=temp_df.values)\n",
    "fig.show()"
   ]
  },
  {
   "cell_type": "code",
   "execution_count": 166,
   "id": "1026ca72-0fed-478e-bafa-17e19bb3b64c",
   "metadata": {},
   "outputs": [],
   "source": [
    "# Will make a function for every player and team where if you give this function some input it will give you the some statistical analysis like(\n",
    "\t\n",
    "# Mean, Median, Min, Max , 25th percentile , 50 percentile, 75 percentile like this )"
   ]
  },
  {
   "cell_type": "code",
   "execution_count": 167,
   "id": "9b15a0b9-6820-4ef3-b434-d7a164633465",
   "metadata": {},
   "outputs": [],
   "source": [
    "dataset.drop(columns=['Unnamed: 0'],inplace=True)"
   ]
  },
  {
   "cell_type": "code",
   "execution_count": 168,
   "id": "8d085399-7cb5-4bb6-8e07-d6d11075c74b",
   "metadata": {},
   "outputs": [],
   "source": [
    "def better(better):\n",
    "\n",
    "    newgroup=dataset.groupby('Batter')\n",
    "    new=newgroup.get_group(better)[['Over','Ball','Batter Runs','Runs From Ball','Total Batter Runs']]\n",
    "    new=new.groupby('Over')\n",
    "    return new.agg(\n",
    "    {\n",
    "        \n",
    "        'Ball': ['mean', 'count'],\n",
    "        'Batter Runs': ['mean', 'sum', 'max', 'min'],\n",
    "        'Total Batter Runs': ['mean', 'sum', 'max']\n",
    "    }\n",
    "    )    "
   ]
  },
  {
   "cell_type": "code",
   "execution_count": 169,
   "id": "06e7108b-08d9-488d-8d09-7c8d4a4e5663",
   "metadata": {},
   "outputs": [],
   "source": [
    "temp_df=better('V Kohli')"
   ]
  },
  {
   "cell_type": "code",
   "execution_count": 170,
   "id": "f0e82cc3-d87b-48e1-b33e-be1f1622d96f",
   "metadata": {},
   "outputs": [
    {
     "data": {
      "text/html": [
       "<div>\n",
       "<style scoped>\n",
       "    .dataframe tbody tr th:only-of-type {\n",
       "        vertical-align: middle;\n",
       "    }\n",
       "\n",
       "    .dataframe tbody tr th {\n",
       "        vertical-align: top;\n",
       "    }\n",
       "\n",
       "    .dataframe thead tr th {\n",
       "        text-align: left;\n",
       "    }\n",
       "\n",
       "    .dataframe thead tr:last-of-type th {\n",
       "        text-align: right;\n",
       "    }\n",
       "</style>\n",
       "<table border=\"1\" class=\"dataframe\">\n",
       "  <thead>\n",
       "    <tr>\n",
       "      <th></th>\n",
       "      <th colspan=\"2\" halign=\"left\">Ball</th>\n",
       "      <th colspan=\"4\" halign=\"left\">Batter Runs</th>\n",
       "      <th colspan=\"3\" halign=\"left\">Total Batter Runs</th>\n",
       "    </tr>\n",
       "    <tr>\n",
       "      <th></th>\n",
       "      <th>mean</th>\n",
       "      <th>count</th>\n",
       "      <th>mean</th>\n",
       "      <th>sum</th>\n",
       "      <th>max</th>\n",
       "      <th>min</th>\n",
       "      <th>mean</th>\n",
       "      <th>sum</th>\n",
       "      <th>max</th>\n",
       "    </tr>\n",
       "    <tr>\n",
       "      <th>Over</th>\n",
       "      <th></th>\n",
       "      <th></th>\n",
       "      <th></th>\n",
       "      <th></th>\n",
       "      <th></th>\n",
       "      <th></th>\n",
       "      <th></th>\n",
       "      <th></th>\n",
       "      <th></th>\n",
       "    </tr>\n",
       "  </thead>\n",
       "  <tbody>\n",
       "    <tr>\n",
       "      <th>1</th>\n",
       "      <td>3.312500</td>\n",
       "      <td>16</td>\n",
       "      <td>0.937500</td>\n",
       "      <td>15</td>\n",
       "      <td>4</td>\n",
       "      <td>0</td>\n",
       "      <td>2.250000</td>\n",
       "      <td>36</td>\n",
       "      <td>7</td>\n",
       "    </tr>\n",
       "    <tr>\n",
       "      <th>2</th>\n",
       "      <td>3.433333</td>\n",
       "      <td>30</td>\n",
       "      <td>0.966667</td>\n",
       "      <td>29</td>\n",
       "      <td>4</td>\n",
       "      <td>0</td>\n",
       "      <td>4.633333</td>\n",
       "      <td>139</td>\n",
       "      <td>17</td>\n",
       "    </tr>\n",
       "    <tr>\n",
       "      <th>3</th>\n",
       "      <td>3.432432</td>\n",
       "      <td>37</td>\n",
       "      <td>1.189189</td>\n",
       "      <td>44</td>\n",
       "      <td>4</td>\n",
       "      <td>0</td>\n",
       "      <td>6.648649</td>\n",
       "      <td>246</td>\n",
       "      <td>23</td>\n",
       "    </tr>\n",
       "    <tr>\n",
       "      <th>4</th>\n",
       "      <td>3.673913</td>\n",
       "      <td>46</td>\n",
       "      <td>1.347826</td>\n",
       "      <td>62</td>\n",
       "      <td>6</td>\n",
       "      <td>0</td>\n",
       "      <td>10.760870</td>\n",
       "      <td>495</td>\n",
       "      <td>28</td>\n",
       "    </tr>\n",
       "    <tr>\n",
       "      <th>5</th>\n",
       "      <td>3.442308</td>\n",
       "      <td>52</td>\n",
       "      <td>1.269231</td>\n",
       "      <td>66</td>\n",
       "      <td>4</td>\n",
       "      <td>0</td>\n",
       "      <td>11.692308</td>\n",
       "      <td>608</td>\n",
       "      <td>34</td>\n",
       "    </tr>\n",
       "    <tr>\n",
       "      <th>6</th>\n",
       "      <td>3.238095</td>\n",
       "      <td>42</td>\n",
       "      <td>1.595238</td>\n",
       "      <td>67</td>\n",
       "      <td>6</td>\n",
       "      <td>0</td>\n",
       "      <td>15.523810</td>\n",
       "      <td>652</td>\n",
       "      <td>38</td>\n",
       "    </tr>\n",
       "    <tr>\n",
       "      <th>7</th>\n",
       "      <td>3.188679</td>\n",
       "      <td>53</td>\n",
       "      <td>1.075472</td>\n",
       "      <td>57</td>\n",
       "      <td>6</td>\n",
       "      <td>0</td>\n",
       "      <td>17.150943</td>\n",
       "      <td>909</td>\n",
       "      <td>43</td>\n",
       "    </tr>\n",
       "    <tr>\n",
       "      <th>8</th>\n",
       "      <td>3.256410</td>\n",
       "      <td>39</td>\n",
       "      <td>1.025641</td>\n",
       "      <td>40</td>\n",
       "      <td>4</td>\n",
       "      <td>0</td>\n",
       "      <td>15.230769</td>\n",
       "      <td>594</td>\n",
       "      <td>45</td>\n",
       "    </tr>\n",
       "    <tr>\n",
       "      <th>9</th>\n",
       "      <td>3.612245</td>\n",
       "      <td>49</td>\n",
       "      <td>0.959184</td>\n",
       "      <td>47</td>\n",
       "      <td>6</td>\n",
       "      <td>0</td>\n",
       "      <td>19.714286</td>\n",
       "      <td>966</td>\n",
       "      <td>52</td>\n",
       "    </tr>\n",
       "    <tr>\n",
       "      <th>10</th>\n",
       "      <td>3.695652</td>\n",
       "      <td>46</td>\n",
       "      <td>0.826087</td>\n",
       "      <td>38</td>\n",
       "      <td>4</td>\n",
       "      <td>0</td>\n",
       "      <td>19.108696</td>\n",
       "      <td>879</td>\n",
       "      <td>56</td>\n",
       "    </tr>\n",
       "  </tbody>\n",
       "</table>\n",
       "</div>"
      ],
      "text/plain": [
       "          Ball       Batter Runs             Total Batter Runs         \n",
       "          mean count        mean sum max min              mean  sum max\n",
       "Over                                                                   \n",
       "1     3.312500    16    0.937500  15   4   0          2.250000   36   7\n",
       "2     3.433333    30    0.966667  29   4   0          4.633333  139  17\n",
       "3     3.432432    37    1.189189  44   4   0          6.648649  246  23\n",
       "4     3.673913    46    1.347826  62   6   0         10.760870  495  28\n",
       "5     3.442308    52    1.269231  66   4   0         11.692308  608  34\n",
       "6     3.238095    42    1.595238  67   6   0         15.523810  652  38\n",
       "7     3.188679    53    1.075472  57   6   0         17.150943  909  43\n",
       "8     3.256410    39    1.025641  40   4   0         15.230769  594  45\n",
       "9     3.612245    49    0.959184  47   6   0         19.714286  966  52\n",
       "10    3.695652    46    0.826087  38   4   0         19.108696  879  56"
      ]
     },
     "execution_count": 170,
     "metadata": {},
     "output_type": "execute_result"
    }
   ],
   "source": [
    "temp_df.head(10)"
   ]
  },
  {
   "cell_type": "code",
   "execution_count": 171,
   "id": "574c8bf5-6be4-4e23-898e-0839998506a3",
   "metadata": {},
   "outputs": [
    {
     "data": {
      "image/png": "[encoded data removed]",
      "text/plain": [
       "<Figure size 1000x600 with 1 Axes>"
      ]
     },
     "metadata": {},
     "output_type": "display_data"
    }
   ],
   "source": [
    "# Data\n",
    "overs = range(1, 21)  # Assuming there are 20 overs\n",
    "mean_ball =temp_df['Ball']['mean'].values\n",
    "mean_batter_runs = temp_df['Batter Runs']['mean'].values\n",
    "mean_total_batter_runs = temp_df['Total Batter Runs']['mean'].values\n",
    "\n",
    "# Plot\n",
    "plt.figure(figsize=(10, 6))\n",
    "plt.plot(overs, mean_ball, marker='o', label='Mean Ball')\n",
    "plt.plot(overs, mean_batter_runs, marker='o', label='Mean Batter Runs')\n",
    "plt.plot(overs, mean_total_batter_runs, marker='o', label='Mean Total Batter Runs')\n",
    "\n",
    "# Add labels and title\n",
    "plt.xlabel('Over')\n",
    "plt.ylabel('Mean Value')\n",
    "plt.title('Mean Values Over Overs')\n",
    "plt.xticks(overs)\n",
    "plt.legend()\n",
    "plt.grid(True)\n",
    "\n",
    "# Show plot\n",
    "plt.tight_layout()\n",
    "plt.show()\n"
   ]
  },
  {
   "cell_type": "code",
   "execution_count": null,
   "id": "6addcb34-c88d-402e-afee-fc06c4cd77fe",
   "metadata": {},
   "outputs": [],
   "source": []
  }
 ],
 "metadata": {
  "kernelspec": {
   "display_name": "Python 3 (ipykernel)",
   "language": "python",
   "name": "python3"
  },
  "language_info": {
   "codemirror_mode": {
    "name": "ipython",
    "version": 3
   },
   "file_extension": ".py",
   "mimetype": "text/x-python",
   "name": "python",
   "nbconvert_exporter": "python",
   "pygments_lexer": "ipython3",
   "version": "3.11.8"
  }
 },
 "nbformat": 4,
 "nbformat_minor": 5
}
